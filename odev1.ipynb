{
 "cells": [
  {
   "cell_type": "markdown",
   "id": "71940b64-be31-445f-ad06-bc21bcaf81a2",
   "metadata": {},
   "source": [
    "# Python Ödev Dokümanı: Veri Tipleri ve Operatörler"
   ]
  },
  {
   "cell_type": "markdown",
   "id": "bf03feae-3ba3-43a4-ada3-b5984e9a0a48",
   "metadata": {},
   "source": [
    "## Bölüm 1: Veri Tipleri "
   ]
  },
  {
   "cell_type": "markdown",
   "id": "57efa45d-4e10-43cf-9f2d-d1bc0ec5aa70",
   "metadata": {},
   "source": [
    "1. Kullanıcıdan adını, yaşını ve boyunu (float) input() ile alınız. Bu bilgileri uygun veri \n",
    "tiplerinde değişkenlerde saklayınız ve ekrana anlamlı bir şekilde yazdırınız. "
   ]
  },
  {
   "cell_type": "code",
   "execution_count": 2,
   "id": "22d983cc-4f18-405b-9a55-70ccd1b736a5",
   "metadata": {},
   "outputs": [
    {
     "name": "stdin",
     "output_type": "stream",
     "text": [
      "Adınız: ümran\n",
      "Yaşınız: 21\n",
      "Boyunuz:  1.70\n"
     ]
    },
    {
     "name": "stdout",
     "output_type": "stream",
     "text": [
      "ümran 21 1.7\n"
     ]
    }
   ],
   "source": [
    "ad = input(\"Adınız:\")\n",
    "yas = int(input(\"Yaşınız:\"))\n",
    "boy = float(input(\"Boyunuz: \"))\n",
    "\n",
    "print(ad,yas,boy)"
   ]
  },
  {
   "cell_type": "markdown",
   "id": "c4792af8-8da8-4fb7-95e4-68b25910d34e",
   "metadata": {},
   "source": [
    "2. Bir öğrencinin notlarını (Matematik, Fizik, Kimya) int tipinde değişkenlere atayın. \n",
    "Ortalamasını float tipinde hesaplayıp ekrana yazdırınız. "
   ]
  },
  {
   "cell_type": "code",
   "execution_count": 3,
   "id": "00dc7e12-0554-4d2e-9822-a13aa7c6fe9b",
   "metadata": {},
   "outputs": [
    {
     "name": "stdin",
     "output_type": "stream",
     "text": [
      "Matematik notunuzu girin: 90\n",
      "Fizik notunuzu girin: 80\n",
      "kimya notunuzu girin: 60\n"
     ]
    },
    {
     "name": "stdout",
     "output_type": "stream",
     "text": [
      "Ortalamanız : 76.66666666666667\n"
     ]
    }
   ],
   "source": [
    "matematik = int(input(\"Matematik notunuzu girin:\"))\n",
    "fizik = int(input(\"Fizik notunuzu girin:\"))\n",
    "kimya = int(input(\"kimya notunuzu girin:\"))\n",
    "ortalama = (matematik + fizik + kimya) / 3\n",
    "\n",
    "print (\"Ortalamanız :\", ortalama )"
   ]
  },
  {
   "cell_type": "markdown",
   "id": "5167bc78-0ac4-4aed-8ef8-1e4053153bb2",
   "metadata": {},
   "source": [
    "3. Bir string değişkeni tanımlayın. Bu stringin ilk ve son karakterini, uzunluğunu ve ters \n",
    "çevrilmiş halini ekrana yazdırınız."
   ]
  },
  {
   "cell_type": "code",
   "execution_count": 1,
   "id": "bdcf4681-fd6e-4c91-a866-440d90070f07",
   "metadata": {},
   "outputs": [
    {
     "name": "stdout",
     "output_type": "stream",
     "text": [
      "ilk karakter: Ü\n",
      "son karakter: z\n",
      "uzunluk:  13\n",
      "ters hali: zuvalaY narmÜ\n"
     ]
    }
   ],
   "source": [
    "str = \"Ümran Yalavuz\"\n",
    "print (\"ilk karakter:\", str [0])\n",
    "print (\"son karakter:\", str [-1])\n",
    "print (\"uzunluk: \", len(str))\n",
    "print (\"ters hali:\", str[::-1])"
   ]
  },
  {
   "cell_type": "markdown",
   "id": "2fde82c5-182b-450c-9396-9832c25fa06e",
   "metadata": {},
   "source": [
    "## Bölüm 2: Operatörler"
   ]
  },
  {
   "cell_type": "markdown",
   "id": "cc7a65b3-ed12-48df-b2bc-7bb0b39bb9b1",
   "metadata": {},
   "source": [
    "4. Kullanıcıdan iki sayı alınız. Bu sayılar üzerinde toplama, çıkarma, çarpma, bölme ve mod \n",
    "işlemleri yapınız."
   ]
  },
  {
   "cell_type": "code",
   "execution_count": 5,
   "id": "d6a3ec46-820f-4466-962e-c568da7b47df",
   "metadata": {},
   "outputs": [
    {
     "name": "stdin",
     "output_type": "stream",
     "text": [
      "Birinci sayıyı giriniz:  9\n",
      "İkinci sayıyı giriniz:  12\n"
     ]
    },
    {
     "name": "stdout",
     "output_type": "stream",
     "text": [
      "Toplam: 21\n",
      "Fark: -3\n",
      "Çarpım: 108\n",
      "Bölüm: 0.75\n",
      "Mod: 9\n"
     ]
    }
   ],
   "source": [
    "sayi1 = int(input(\"Birinci sayıyı giriniz: \"))\n",
    "sayi2 = int(input(\"İkinci sayıyı giriniz: \"))\n",
    "\n",
    "print(\"Toplam:\", sayi1 + sayi2)\n",
    "print(\"Fark:\", sayi1 - sayi2)\n",
    "print(\"Çarpım:\", sayi1 * sayi2)\n",
    "print(\"Bölüm:\", sayi1 / sayi2)\n",
    "print(\"Mod:\", sayi1 % sayi2)\n"
   ]
  },
  {
   "cell_type": "markdown",
   "id": "12e7b85c-517b-42c3-ba14-aa819c537819",
   "metadata": {},
   "source": [
    "5. Bir öğrencinin ortalaması 50’den büyükse 'Geçti', değilse 'Kaldı' çıktısını veren bir program yazınız. (Karşılaştırma ve mantıksal operatörler kullanılacak.) "
   ]
  },
  {
   "cell_type": "code",
   "execution_count": 14,
   "id": "be6ad74b-aac5-4604-97e1-b9971ecbd1f7",
   "metadata": {},
   "outputs": [
    {
     "name": "stdin",
     "output_type": "stream",
     "text": [
      "Ortalamanız: 60\n"
     ]
    },
    {
     "name": "stdout",
     "output_type": "stream",
     "text": [
      "Geçti\n"
     ]
    }
   ],
   "source": [
    "ortalama = float(input(\"Ortalamanız:\"))\n",
    "\n",
    "if ortalama >= 50 :\n",
    "    print (\"Geçti\")\n",
    "else :\n",
    "    print (\"Kaldı\")"
   ]
  },
  {
   "cell_type": "markdown",
   "id": "4f8f6473-cbbe-4d4d-8c53-4eb5dcb797c2",
   "metadata": {},
   "source": [
    "6. Kullanıcıdan yaşını alınız. Eğer yaş 18’den büyükse 'Ehliyet alabilirsiniz', değilse 'Ehliyet alamazsınız' çıktısı veriniz. "
   ]
  },
  {
   "cell_type": "code",
   "execution_count": 11,
   "id": "d5d61c48-b387-461b-a15c-44a70f5fe730",
   "metadata": {},
   "outputs": [
    {
     "name": "stdin",
     "output_type": "stream",
     "text": [
      "Yaşınız: 26\n"
     ]
    },
    {
     "name": "stdout",
     "output_type": "stream",
     "text": [
      "Ehliyet alabilirsiniz.\n"
     ]
    }
   ],
   "source": [
    "yas = int(input(\"Yaşınız:\"))\n",
    "if yas >= 18:\n",
    "     print(\"Ehliyet alabilirsiniz.\")\n",
    "else:\n",
    "    print (\"Ehliyet alamazsınız.\")\n",
    "          \n"
   ]
  },
  {
   "cell_type": "markdown",
   "id": "d21c5646-7782-4201-b8e9-17bdeb98367b",
   "metadata": {},
   "source": [
    "7. Bir ürünün fiyatını (float) ve indirim oranını (yüzde) alınız. İndirimli fiyatı hesaplayıp ekrana yazdırınız. (Aritmetik operatörler kullanılacak.) "
   ]
  },
  {
   "cell_type": "code",
   "execution_count": 17,
   "id": "dc13bcd6-2e09-4637-a96e-ee6b12872666",
   "metadata": {},
   "outputs": [
    {
     "name": "stdin",
     "output_type": "stream",
     "text": [
      "Fiyat giriniz: 850\n",
      "İndirim oranını giriniz: 50\n"
     ]
    },
    {
     "name": "stdout",
     "output_type": "stream",
     "text": [
      "İndirimli fiyat :  425.0\n"
     ]
    }
   ],
   "source": [
    "fiyat = float(input(\"Fiyat giriniz:\"))\n",
    "IndirimOranı = float(input(\"İndirim oranını giriniz:\"))\n",
    "IndirimliFiyat = fiyat - (fiyat * IndirimOranı / 100)\n",
    "print(\"İndirimli fiyat : \", IndirimliFiyat)\n"
   ]
  },
  {
   "cell_type": "markdown",
   "id": "95732115-7138-4b51-b941-3ddc63634cc1",
   "metadata": {},
   "source": [
    "8. True ve False değerlerini içeren değişkenlerle mantıksal operatörleri (and, or, not) uygulayarak örnekler yapınız ve sonuçlarını ekrana yazdırınız. "
   ]
  },
  {
   "cell_type": "code",
   "execution_count": 18,
   "id": "9ea28411-0032-4f2d-8208-92d398bcb2d4",
   "metadata": {},
   "outputs": [
    {
     "name": "stdout",
     "output_type": "stream",
     "text": [
      "a and b: False\n",
      "a or b: True\n",
      "not a: False\n"
     ]
    }
   ],
   "source": [
    "a = True\n",
    "b = False\n",
    "\n",
    "print(\"a and b:\", a and b)\n",
    "print(\"a or b:\", a or b)\n",
    "print(\"not a:\", not a)\n"
   ]
  },
  {
   "cell_type": "markdown",
   "id": "a3492327-263e-4f33-90e1-134d05033b9a",
   "metadata": {},
   "source": [
    "## Bölüm 3: Mini Proje "
   ]
  },
  {
   "cell_type": "markdown",
   "id": "22943431-ed60-4d82-afda-55a97aa3d3ca",
   "metadata": {},
   "source": [
    "9. Küçük bir alışveriş sepeti uygulaması yapınız: \n",
    "- Kullanıcıdan 3 ürünün fiyatını alınız. \n",
    "- Toplam fiyatı hesaplayınız.\n",
    "- Eğer toplam fiyat 200 TL’den fazlaysa %10 indirim uygulayınız. \n",
    "- Son fiyatı ekrana yazdırınız. "
   ]
  },
  {
   "cell_type": "code",
   "execution_count": 19,
   "id": "2d280a81-2eeb-420e-8376-db8fdbb64292",
   "metadata": {},
   "outputs": [
    {
     "name": "stdin",
     "output_type": "stream",
     "text": [
      "1. ürünün fiyatını giriniz: 100\n",
      "2. ürünün fiyatını giriniz: 100\n",
      "3. ürünün fiyatını giriniz: 100\n"
     ]
    },
    {
     "name": "stdout",
     "output_type": "stream",
     "text": [
      "Toplam tutar: 270.0 TL\n"
     ]
    }
   ],
   "source": [
    "urun1 = float(input(\"1. ürünün fiyatını giriniz:\"))\n",
    "urun2 = float(input(\"2. ürünün fiyatını giriniz:\"))\n",
    "urun3 = float(input(\"3. ürünün fiyatını giriniz:\"))\n",
    "toplam = urun1 + urun2 + urun3\n",
    "if toplam > 200:\n",
    "    toplam = toplam * 0.9\n",
    "print(\"Toplam tutar: {} TL\".format(toplam))\n",
    "    "
   ]
  },
  {
   "cell_type": "markdown",
   "id": "87fd9da7-a696-4011-b738-674a0cddbc5b",
   "metadata": {},
   "source": [
    "10. Kullanıcıdan doğum yılını alınız. Bu yıl ile güncel yılı kullanarak yaşını hesaplayınız. \n",
    "Yaşına göre şu mesajlardan birini veriniz:\n",
    "- 0-12: 'Çocuksunuz'\n",
    "- 13-17: 'Ergensiniz'\n",
    "- 18 ve üzeri: 'Yetişkinsiniz'"
   ]
  },
  {
   "cell_type": "code",
   "execution_count": 20,
   "id": "e161400e-ed34-4805-81e6-4b950dab4fab",
   "metadata": {},
   "outputs": [
    {
     "name": "stdin",
     "output_type": "stream",
     "text": [
      "Doğum yılınız: 2003\n"
     ]
    },
    {
     "name": "stdout",
     "output_type": "stream",
     "text": [
      "Yetişkinsiniz\n"
     ]
    }
   ],
   "source": [
    "DogumYili = int(input(\"Doğum yılınız:\"))\n",
    "GuncelYil = 2025\n",
    "yas = GuncelYil - DogumYili\n",
    "if 0 >= yas >= 12 :\n",
    "    print(\"Çocuksunuz\")\n",
    "elif 13 >= yas >= 17:\n",
    "    print(\"Ergensiniz\")\n",
    "elif yas >= 18 :\n",
    "    print(\"Yetişkinsiniz\")"
   ]
  }
 ],
 "metadata": {
  "kernelspec": {
   "display_name": "Python [conda env:base] *",
   "language": "python",
   "name": "conda-base-py"
  },
  "language_info": {
   "codemirror_mode": {
    "name": "ipython",
    "version": 3
   },
   "file_extension": ".py",
   "mimetype": "text/x-python",
   "name": "python",
   "nbconvert_exporter": "python",
   "pygments_lexer": "ipython3",
   "version": "3.13.5"
  }
 },
 "nbformat": 4,
 "nbformat_minor": 5
}
