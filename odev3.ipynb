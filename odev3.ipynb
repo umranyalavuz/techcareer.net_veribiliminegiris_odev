{
 "cells": [
  {
   "cell_type": "markdown",
   "id": "4f24cf72-9740-46f5-93ad-88e62fdc971e",
   "metadata": {},
   "source": [
    "# Haftalık Ödev – Yaz Kampı: Veri Bilimi – Hafta 3"
   ]
  },
  {
   "cell_type": "markdown",
   "id": "c90b05b9-b354-4007-bb12-b99b67bc6da4",
   "metadata": {},
   "source": [
    "## Soru 1 – Liste Metotları\n",
    "Bir sınıfta öğrencilerin notları şu şekilde tutuluyor:\n",
    "notlar = [85, 92, 76, 92, 100, 76, 85, 92]\n",
    "• Listedeki tekrar eden notları silip benzersiz bir liste oluşturun.\n",
    "• En yüksek ve en düşük notu bulun.\n",
    "• Notları küçükten büyüğe sıralayın.\n"
   ]
  },
  {
   "cell_type": "code",
   "execution_count": 1,
   "id": "97b81e91-c8a1-43ca-952d-5b582a9e045d",
   "metadata": {},
   "outputs": [
    {
     "name": "stdout",
     "output_type": "stream",
     "text": [
      "[100, 92, 85, 76]\n"
     ]
    }
   ],
   "source": [
    "notlar = [85, 92, 76, 92, 100, 76, 85, 92]\n",
    "benzersiz = list(set(notlar))\n",
    "print(benzersiz)"
   ]
  },
  {
   "cell_type": "markdown",
   "id": "8be5e723-f454-47a5-aecf-33bb5e333d6b",
   "metadata": {},
   "source": [
    "### • En yüksek ve en düşük notu bulun."
   ]
  },
  {
   "cell_type": "code",
   "execution_count": 2,
   "id": "dce02bee-ba4f-4fd3-bb9f-f5660f3028f8",
   "metadata": {},
   "outputs": [
    {
     "name": "stdout",
     "output_type": "stream",
     "text": [
      "en yüksek not: 100\n",
      "en düşük not: 76\n"
     ]
    }
   ],
   "source": [
    "notlar = [85, 92, 76, 92, 100, 76, 85, 92]\n",
    "en_yuksek = max(notlar)\n",
    "en_dusuk = min(notlar)\n",
    "print(\"en yüksek not:\", en_yuksek)\n",
    "print(\"en düşük not:\", en_dusuk)"
   ]
  },
  {
   "cell_type": "markdown",
   "id": "7ef242ac-359e-4ee6-9cb3-c4dce260f064",
   "metadata": {},
   "source": [
    "### • Notları küçükten büyüğe sıralayın."
   ]
  },
  {
   "cell_type": "code",
   "execution_count": 3,
   "id": "e5766014-8536-4565-a90d-abba4febbdd5",
   "metadata": {},
   "outputs": [
    {
     "data": {
      "text/plain": [
       "[76, 76, 85, 85, 92, 92, 92, 100]"
      ]
     },
     "execution_count": 3,
     "metadata": {},
     "output_type": "execute_result"
    }
   ],
   "source": [
    "notlar = [85, 92, 76, 92, 100, 76, 85, 92]\n",
    "notlar.sort()\n",
    "notlar"
   ]
  },
  {
   "cell_type": "markdown",
   "id": "bd107a6e-95bc-4916-a228-036597e2775f",
   "metadata": {},
   "source": [
    "## Soru 2 – Sayılar\n",
    "Bir sayının Armstrong sayısı olup olmadığını kontrol eden bir Python fonksiyonu yazın.\n",
    "Armstrong sayısı: Her basamağının küplerinin toplamı kendisine eşit olan sayılar.\n",
    "Örn: 153 → 1³+5³+3³ = 153"
   ]
  },
  {
   "cell_type": "code",
   "execution_count": 11,
   "id": "a0aa3489-edac-4869-a16b-e4e0d35ce734",
   "metadata": {},
   "outputs": [
    {
     "name": "stdout",
     "output_type": "stream",
     "text": [
      "True\n"
     ]
    }
   ],
   "source": [
    "def armstrong(sayi):\n",
    "    toplam = sum(int(basamak)**3 for basamak in str(sayi))\n",
    "    return toplam == sayi\n",
    "\n",
    "print (armstrong(153))\n"
   ]
  },
  {
   "cell_type": "markdown",
   "id": "17914bb6-d394-493a-b926-89784fbed8b2",
   "metadata": {},
   "source": [
    "## Soru 3 – Kümeler\n",
    "Aşağıdaki iki küme verilmiştir:\n",
    "A = {\"Python\", \"R\", \"SQL\", \"Java\"}\n",
    "B = {\"C++\", \"Python\", \"JavaScript\", \"SQL\"}\n",
    "• Ortak dilleri bulun.\n",
    "• Sadece A’da olan dilleri listeleyin.\n",
    "• İki kümenin birleşimini alfabetik olarak yazdırın."
   ]
  },
  {
   "cell_type": "code",
   "execution_count": 13,
   "id": "8daa4736-aca0-450e-a333-c1ad8aa9c43b",
   "metadata": {},
   "outputs": [
    {
     "name": "stdout",
     "output_type": "stream",
     "text": [
      "ortak diller: {'SQL', 'Python'}\n",
      "sadece A'da olan diller: {'R', 'Java'}\n"
     ]
    }
   ],
   "source": [
    "A = {\"Python\", \"R\", \"SQL\", \"Java\"}\n",
    "B = {\"C++\", \"Python\", \"JavaScript\", \"SQL\"}\n",
    "ortak = A & B\n",
    "print(\"ortak diller:\", ortak)\n",
    "\n",
    "sadeceA = A - B\n",
    "print(\"sadece A'da olan diller:\", sadeceA)\n",
    "\n"
   ]
  },
  {
   "cell_type": "markdown",
   "id": "d7243206-10cf-47be-bf15-ae2788cca8c6",
   "metadata": {},
   "source": [
    "## Soru 4 – Modüller\n",
    "• random modülünü kullanarak 1–100 arasında 10 rastgele sayı üretin.\n",
    "• Bu sayıların ortalamasını ve standart sapmasını statistics modülü ile hesaplayın."
   ]
  },
  {
   "cell_type": "code",
   "execution_count": 18,
   "id": "afebc5ef-b7bd-4395-9fdd-13ed4fd5f30a",
   "metadata": {},
   "outputs": [
    {
     "name": "stdout",
     "output_type": "stream",
     "text": [
      "Sayılar: [16, 84, 68, 30, 75, 47, 52, 72, 72, 32]\n",
      "Ortalama: 54.8\n",
      "Standart sapma: 22.938565294668667\n"
     ]
    }
   ],
   "source": [
    "import random\n",
    "import statistics\n",
    "sayilar = [random.randint(1, 100) for _ in range(10)]\n",
    "print(\"Sayılar:\", sayilar)\n",
    "\n",
    "ortalama = statistics.mean(sayilar)\n",
    "stdev = statistics.stdev(sayilar)\n",
    "\n",
    "print(\"Ortalama:\", ortalama)\n",
    "print(\"Standart sapma:\", stdev)"
   ]
  },
  {
   "cell_type": "markdown",
   "id": "92ba00e4-2c3e-4603-812f-847987e59028",
   "metadata": {},
   "source": [
    "## Soru 5 – Fonksiyonlar\n",
    "kelime_sayacı(metin) adında bir fonksiyon yazın.\n",
    "Fonksiyon verilen metindeki:\n",
    "• toplam kelime sayısını\n",
    "• en uzun kelimeyi\n",
    "• en sık geçen kelimeyi döndürsün."
   ]
  },
  {
   "cell_type": "code",
   "execution_count": 23,
   "id": "e49115b7-98f3-4388-b0b4-ab84b3e3e175",
   "metadata": {},
   "outputs": [
    {
     "name": "stdout",
     "output_type": "stream",
     "text": [
      "(15, 'öğreniyorum.', 'yaz')\n"
     ]
    }
   ],
   "source": [
    "def kelime_sayacı(metin):\n",
    "    kelimeler = metin.split()\n",
    "    toplam = len(kelimeler)\n",
    "    en_uzun = max(kelimeler)\n",
    "    en_cok_tekrar = max(set(kelimeler), key = kelimeler.count) \n",
    "    return toplam, en_uzun, en_cok_tekrar\n",
    "metin =\" Ben bu yaz veri bilimine giriş eğitimi yaz kampına katıldım. Veri bilimi ve python öğreniyorum.\"\n",
    "print(kelime_sayacı(metin))\n"
   ]
  },
  {
   "cell_type": "markdown",
   "id": "72c49144-341b-4b37-a86e-526d06432493",
   "metadata": {},
   "source": [
    "## Soru 6 – Gömülü Fonksiyonlar\n",
    "Aşağıdaki liste için map, filter, sorted gibi gömülü fonksiyonları kullanarak:\n",
    "sayilar = [5, 12, 7, 18, 24, 3, 16]\n",
    "• Sadece çift sayıları filtreleyin.\n",
    "• Bu sayıların karelerini bulun.\n",
    "• Karelerini azalan sırada sıralayın."
   ]
  },
  {
   "cell_type": "code",
   "execution_count": 24,
   "id": "639caaf1-1699-49a0-8e66-5abeaf4872fa",
   "metadata": {},
   "outputs": [
    {
     "name": "stdout",
     "output_type": "stream",
     "text": [
      "[576, 324, 256, 144]\n"
     ]
    }
   ],
   "source": [
    "sayilar = [5, 12, 7, 18, 24, 3, 16]\n",
    "cift_sayilar = list(filter(lambda x: x % 2 == 0, sayilar))\n",
    "kareler = list(map(lambda x: x**2, cift_sayilar))\n",
    "kareler_sirali = sorted(kareler, reverse=True)\n",
    "\n",
    "print(kareler_sirali)\n",
    "\n"
   ]
  },
  {
   "cell_type": "markdown",
   "id": "f16ae828-3f74-4914-989f-ca07e48ba5c9",
   "metadata": {},
   "source": [
    "## Soru 7 – Lambda İfadeleri\n",
    "Aşağıdaki listeyi, her kelimenin uzunluğuna göre küçükten büyüğe sıralayın.\n",
    "kelimeler = [\"veri\", \"bilim\", \"analiz\", \"yapayzeka\", \"python\"]\n",
    "Bunu sorted + lambda ile yapın."
   ]
  },
  {
   "cell_type": "code",
   "execution_count": 27,
   "id": "3cb193be-e228-439f-9037-df8270fe61c9",
   "metadata": {},
   "outputs": [
    {
     "name": "stdout",
     "output_type": "stream",
     "text": [
      "['veri', 'bilim', 'analiz', 'python', 'yapayzeka']\n"
     ]
    }
   ],
   "source": [
    "kelimeler = [\"veri\", \"bilim\", \"analiz\", \"yapayzeka\", \"python\"]\n",
    "sirali = sorted(kelimeler, key=lambda x: len(x))\n",
    "print(sirali)"
   ]
  },
  {
   "cell_type": "markdown",
   "id": "a0d114b5-5710-4894-aca3-13cc9d9d747c",
   "metadata": {},
   "source": [
    "## Soru 8 – Metodlar\n",
    "Bir string içinde geçen tüm rakamları bulun ve bunların toplamını döndüren bir fonksiyon\n",
    "yazın.\n",
    "Örn: \"abc12def3\" → 12 + 3 = 15"
   ]
  },
  {
   "cell_type": "code",
   "execution_count": 28,
   "id": "cc14dd86-a30c-41c3-abec-7335ddae33a4",
   "metadata": {},
   "outputs": [
    {
     "name": "stdout",
     "output_type": "stream",
     "text": [
      "6\n"
     ]
    }
   ],
   "source": [
    "def rakam_toplami(s):\n",
    "    return sum(int(ch) for ch in s if ch.isdigit())\n",
    "sonuc = rakam_toplami(\"abc12def3\")\n",
    "print(sonuc)"
   ]
  },
  {
   "cell_type": "markdown",
   "id": "1a424fd4-a72c-4267-9e62-b239091a6158",
   "metadata": {},
   "source": [
    "## Proje – “Kitap Satış Analiz Sistemi”\n",
    "Bir yayınevinin farklı türlerde ve yazarlarda kitapları var. Örnek veri:\n",
    "kitaplar = [\n",
    " {\"isim\": \"Veri Bilimi 101\", \"yazar\": \"Ali\", \"tur\": \"Bilim\", \"satis\": 1200, \"yil\": 2021},\n",
    " {\"isim\": \"Python ile Yapay Zeka\", \"yazar\": \"Ayşe\", \"tur\": \"Bilim\", \"satis\": 950, \"yil\":\n",
    "2020},\n",
    " {\"isim\": \"İstatistik Temelleri\", \"yazar\": \"Ali\", \"tur\": \"Akademik\", \"satis\": 700, \"yil\": 2019},\n",
    " {\"isim\": \"Makine Öğrenmesi\", \"yazar\": \"Can\", \"tur\": \"Bilim\", \"satis\": 1800, \"yil\": 2022},\n",
    " {\"isim\": \"Veri Görselleştirme\", \"yazar\": \"Deniz\", \"tur\": \"Sanat\", \"satis\": 400, \"yil\": 2018},\n",
    " {\"isim\": \"Matematiksel Modelleme\", \"yazar\": \"Ali\", \"tur\": \"Akademik\", \"satis\": 1500,\n",
    "\"yil\": 2021},\n",
    " {\"isim\": \"Bilgi Toplumu\", \"yazar\": \"Ayşe\", \"tur\": \"Sosyal\", \"satis\": 600, \"yil\": 2022}\n",
    "]\n",
    "Yapılması Gerekenler:\n",
    "1. Fonksiyon Yazma:\n",
    "o en_cok_satan(kitaplar) → En çok satan kitabın bilgilerini döndürsün.\n",
    "o yazar_satislari(kitaplar) → Her yazarın toplam satışını bir sözlük olarak\n",
    "döndürsün.\n",
    "2. Liste ve Küme İşlemleri:\n",
    "o Tüm kitap türlerini (tur) küme halinde çıkarın (tekrar eden türler olmadan).\n",
    "o Satış adedi 1000’den fazla olan kitapların isimlerini bir listede toplayın.\n",
    "3. Lambda / Filter / Map Kullanımı:\n",
    "o filter ile 2020’den sonra çıkan kitapları süzün.\n",
    "o map ile tüm satış adetlerini %10 artırılmış şekilde yeni bir listeye aktarın.\n",
    "o sorted + lambda ile kitapları satış miktarına göre azalan şekilde sıralayın.\n",
    "4. İstatistiksel Analiz:\n",
    "o Ortalama satış adedini bulun.\n",
    "o En çok satış yapan türü bulun.\n",
    "o Satışların standart sapmasını hesaplamak için statistics modülünü kullanın.\n",
    "5. Ekstra (Zorlayıcı): Train/Test Simülasyonu\n",
    "o Kitap listesini rastgele %70 eğitim (train), %30 test verisine ayırın\n",
    "(random.sample).\n",
    "o Eğitim verisinden yazarların ortalama satışını hesaplayın.\n",
    "o Test verisinde, hangi kitapların satışlarının bu ortalamanın üzerinde olduğunu\n",
    "kontrol edin.\n"
   ]
  },
  {
   "cell_type": "code",
   "execution_count": 33,
   "id": "941bfea4-18c1-44f3-bb4d-32294786cbb4",
   "metadata": {},
   "outputs": [
    {
     "name": "stdout",
     "output_type": "stream",
     "text": [
      "En çok satan kitap: Makine Öğrenmesi\n",
      "Yazar satışları: {'Ali': 3400, 'Ayşe': 1550, 'Can': 1800, 'Deniz': 400}\n",
      "Kitap türleri: {'Sosyal', 'Sanat', 'Akademik', 'Bilim'}\n",
      "1000'den fazla satan kitaplar: ['Veri Bilimi 101', 'Makine Öğrenmesi', 'Matematiksel Modelleme']\n",
      "2020 sonrası çıkan kitaplar: ['Veri Bilimi 101', 'Makine Öğrenmesi', 'Matematiksel Modelleme', 'Bilgi Toplumu']\n",
      "Satışları %10 artmış liste: [1320, 1045, 770, 1980, 440, 1650, 660]\n",
      "Kitaplar satış miktarına göre azalan: ['Makine Öğrenmesi', 'Matematiksel Modelleme', 'Veri Bilimi 101', 'Python ile Yapay Zeka', 'İstatistik Temelleri', 'Bilgi Toplumu', 'Veri Görselleştirme']\n",
      "Ortalama satış: 1021.4285714285714\n",
      "Standart sapma: 506.5\n",
      "En çok satış yapan tür: Bilim\n",
      "Train set: ['İstatistik Temelleri', 'Veri Görselleştirme', 'Matematiksel Modelleme', 'Python ile Yapay Zeka']\n",
      "Yazar ortalama satışları (train): {'Ali': 1100, 'Deniz': [400], 'Ayşe': 950}\n"
     ]
    }
   ],
   "source": [
    "kitaplar = [\n",
    " {\"isim\": \"Veri Bilimi 101\", \"yazar\": \"Ali\", \"tur\": \"Bilim\", \"satis\": 1200, \"yil\": 2021},\n",
    " {\"isim\": \"Python ile Yapay Zeka\", \"yazar\": \"Ayşe\", \"tur\": \"Bilim\", \"satis\": 950, \"yil\":\n",
    "2020},\n",
    " {\"isim\": \"İstatistik Temelleri\", \"yazar\": \"Ali\", \"tur\": \"Akademik\", \"satis\": 700, \"yil\": 2019},\n",
    " {\"isim\": \"Makine Öğrenmesi\", \"yazar\": \"Can\", \"tur\": \"Bilim\", \"satis\": 1800, \"yil\": 2022},\n",
    " {\"isim\": \"Veri Görselleştirme\", \"yazar\": \"Deniz\", \"tur\": \"Sanat\", \"satis\": 400, \"yil\": 2018},\n",
    " {\"isim\": \"Matematiksel Modelleme\", \"yazar\": \"Ali\", \"tur\": \"Akademik\", \"satis\": 1500,\n",
    "\"yil\": 2021},\n",
    " {\"isim\": \"Bilgi Toplumu\", \"yazar\": \"Ayşe\", \"tur\": \"Sosyal\", \"satis\": 600, \"yil\": 2022}\n",
    "]\n",
    "\n",
    "def en_cok_satan(kitaplar):\n",
    "    return max(kitaplar, key=lambda k: k[\"satis\"])\n",
    "def yazar_satislari(kitaplar):\n",
    "    satis_dict = {}\n",
    "    for k in kitaplar:\n",
    "        satis_dict[k[\"yazar\"]] = satis_dict.get(k[\"yazar\"], 0) + k[\"satis\"]\n",
    "    return satis_dict\n",
    "turler = set(k[\"tur\"] for k in kitaplar)\n",
    "yuksek_satisli_kitaplar = [k[\"isim\"] for k in kitaplar if k[\"satis\"] > 1000]\n",
    "# Lambda / Filter / Map Kullanımı\n",
    "kitaplar_2020_sonrasi = list(filter(lambda k: k[\"yil\"] > 2020, kitaplar))\n",
    "artirilmis_satislar = list(map(lambda k: int(k[\"satis\"]*1.10), kitaplar))\n",
    "sirali_kitaplar = sorted(kitaplar, key=lambda k: k[\"satis\"], reverse=True)\n",
    "# istatiksel analiz\n",
    "satislar = [k[\"satis\"] for k in kitaplar]\n",
    "ortalama_satis = statistics.mean(satislar)\n",
    "standart_sapma = statistics.stdev(satislar)\n",
    "# en çok satış yapan tür\n",
    "tur_satis = {}\n",
    "for k in kitaplar:\n",
    "    tur_satis[k[\"tur\"]] = tur_satis.get(k[\"tur\"], 0) + k[\"satis\"]\n",
    "en_cok_satan_tur = max(tur_satis, key=tur_satis.get)\n",
    "\n",
    "n_train = int(len(kitaplar) * 0.7)\n",
    "train_set = random.sample(kitaplar, n_train)\n",
    "test_set = [k for k in kitaplar if k not in train_set]\n",
    "\n",
    "y_ort_satis = {}\n",
    "for k in train_set:\n",
    "    y_ort_satis.setdefault(k[\"yazar\"], []).append(k[\"satis\"])\n",
    "for yazar in y_ort_satıs:\n",
    "    y_ort_satis[yazar] = statistics.mean(y_ort_satis[yazar])\n",
    "\n",
    "print(\"En çok satan kitap:\", en_cok_satan(kitaplar)[\"isim\"])\n",
    "print(\"Yazar satışları:\", yazar_satislari(kitaplar))\n",
    "print(\"Kitap türleri:\", turler)\n",
    "print(\"1000'den fazla satan kitaplar:\", yuksek_satisli_kitaplar)\n",
    "print(\"2020 sonrası çıkan kitaplar:\", [k[\"isim\"] for k in kitaplar_2020_sonrasi])\n",
    "print(\"Satışları %10 artmış liste:\", artirilmis_satislar)\n",
    "print(\"Kitaplar satış miktarına göre azalan:\", [k[\"isim\"] for k in sirali_kitaplar])\n",
    "print(\"Ortalama satış:\", ortalama_satis)\n",
    "print(\"Standart sapma:\", round(standart_sapma,1))\n",
    "print(\"En çok satış yapan tür:\", en_cok_satan_tur)\n",
    "print(\"Train set:\", [k[\"isim\"] for k in train_set])\n",
    "print(\"Yazar ortalama satışları (train):\", y_ort_satis)"
   ]
  }
 ],
 "metadata": {
  "kernelspec": {
   "display_name": "Python [conda env:base] *",
   "language": "python",
   "name": "conda-base-py"
  },
  "language_info": {
   "codemirror_mode": {
    "name": "ipython",
    "version": 3
   },
   "file_extension": ".py",
   "mimetype": "text/x-python",
   "name": "python",
   "nbconvert_exporter": "python",
   "pygments_lexer": "ipython3",
   "version": "3.13.5"
  }
 },
 "nbformat": 4,
 "nbformat_minor": 5
}
