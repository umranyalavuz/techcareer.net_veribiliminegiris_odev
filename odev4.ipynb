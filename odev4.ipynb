{
  "nbformat": 4,
  "nbformat_minor": 0,
  "metadata": {
    "colab": {
      "provenance": []
    },
    "kernelspec": {
      "name": "python3",
      "display_name": "Python 3"
    },
    "language_info": {
      "name": "python"
    }
  },
  "cells": [
    {
      "cell_type": "markdown",
      "source": [
        "## 1. Numpy Bölümü\n",
        "Aşağıdaki adımları uygulayın:"
      ],
      "metadata": {
        "id": "Ko0YiFePNRU6"
      }
    },
    {
      "cell_type": "markdown",
      "source": [
        "\n",
        "### 1.1 Numpy ile Matris İşlemleri\n",
        "- 5x5 boyutunda rastgele (0-100 arasında) tam sayılardan oluşan bir matris oluşturun.\n",
        "- Bu matrisin:\n",
        "  • Ortalama, standart sapma ve varyansını hesaplayın.\n",
        "  • En büyük ve en küçük değerlerini bulun.\n",
        "  • Köşegenindeki elemanların toplamını bulun."
      ],
      "metadata": {
        "id": "BC9TLLe9Kz82"
      }
    },
    {
      "cell_type": "code",
      "source": [
        "import numpy as np\n",
        "matris = np.random.randint(0,101, (5,5))\n",
        "ortalama = np.mean(matris)\n",
        "standart_sapma = np.std(matris)\n",
        "varyans = np.var(matris)\n",
        "en_buyuk = np.max(matris)\n",
        "en_kucuk = np.min(matris)\n",
        "kosegen_toplam = np.trace(matris)\n",
        "print(\"Matris:\\n\", matris)\n",
        "print(\"Ortalama=\" , ortalama)\n",
        "print(\"Standart sapma=\" , standart_sapma)\n",
        "print(\"Varyans=\" , varyans)\n",
        "print(\"En büyük değer=\" , en_buyuk)\n",
        "print(\"En küçük değer=\" , en_kucuk)\n",
        "print(\"Köşegenindeki elemanların toplamı=\" , kosegen_toplam)"
      ],
      "metadata": {
        "colab": {
          "base_uri": "https://localhost:8080/"
        },
        "id": "uvC34Q-Orx71",
        "outputId": "b22989f3-cfe3-4773-d1fc-fd24696350d6"
      },
      "execution_count": null,
      "outputs": [
        {
          "output_type": "stream",
          "name": "stdout",
          "text": [
            "Matris:\n",
            " [[24 48 70 70 36]\n",
            " [ 4 13  6 89 43]\n",
            " [59 82 94  3 87]\n",
            " [89 12  7  0 23]\n",
            " [47  4 38 14 66]]\n",
            "Ortalama= 41.12\n",
            "Standart sapma= 31.73555734503492\n",
            "Varyans= 1007.1456\n",
            "En büyük değer= 94\n",
            "En küçük değer= 0\n",
            "Köşegenindeki elemanların toplamı= 197\n"
          ]
        }
      ]
    },
    {
      "cell_type": "markdown",
      "source": [
        "### 2.2. Numpy ile Veri Simülasyonu\n",
        "- 1000 adet öğrencinin sınav puanlarını (0-100 arası, normal dağılımdan gelen) simüle edin.\n",
        "- Ortalama, medyan ve standart sapmayı hesaplayın.\n",
        "- 50’den düşük alan kaç öğrenci olduğunu bulun.\n"
      ],
      "metadata": {
        "id": "K3FjxOhfK9hG"
      }
    },
    {
      "cell_type": "code",
      "source": [
        "import numpy as np\n",
        "puanlar = np.random.normal(loc=60, scale=10, size=1000)\n",
        "puanlar = np.clip(puanlar, 0, 100)\n",
        "ortalama = np.mean(puanlar)\n",
        "medyan = np.median(puanlar)\n",
        "standart_sapma = np.std(puanlar)\n",
        "print(\"50'den düşük alan öğrenci sayısı:\", (puanlar < 50).sum())\n",
        "print(\"İlk 10 puan:\" , puanlar[:10])\n",
        "print(\"Ortalama:\", ortalama)\n",
        "print(\"Medyan:\", medyan)\n",
        "print(\"Standart sapma:\", standart_sapma)"
      ],
      "metadata": {
        "colab": {
          "base_uri": "https://localhost:8080/"
        },
        "id": "jsR4GXXPk8DC",
        "outputId": "ae0b640d-0833-44c5-e2be-07ba722ed3af"
      },
      "execution_count": null,
      "outputs": [
        {
          "output_type": "stream",
          "name": "stdout",
          "text": [
            "50'den düşük alan öğrenci sayısı: 141\n",
            "İlk 10 puan: [62.1107313  67.55451622 47.46444733 62.00958505 50.18476012 55.5367959\n",
            " 53.09173547 78.85013665 62.95792509 38.70476053]\n",
            "Ortalama: 60.065044564189506\n",
            "Medyan: 60.12875433169571\n",
            "Standart sapma: 9.606281955155637\n"
          ]
        }
      ]
    },
    {
      "cell_type": "markdown",
      "source": [
        "## 2. Pandas Bölümü\n",
        "Bir CSV dosyası oluşturun ya da aşağıdaki gibi örnek bir DataFrame hazırlayın:\n",
        "\n",
        "Öğrenci\tYaş\tBölüm\tMatematik\tFizik\tKimya\n",
        "\n",
        "Ali\t    20\tBilgisayar\t70\t65\t80\n",
        "\n",
        "Ayşe\t21\tFizik\t60\t75\t85\n",
        "\n",
        "Mehmet\t19\tKimya\t80\t70\t65\n",
        "\n",
        "Zeynep\t22\tBilgisayar\t90\t85\t95\n",
        "\n",
        "Ahmet\t20\tFizik\t55\t60\t70\n",
        "\n",
        "•\tGörevler:\n",
        "\n",
        "3.\t1. Veri setini Pandas DataFrame olarak oluşturun.\n",
        "4.\t2. Her ders için ortalama puanı bulun.\n",
        "5.\t3. En yüksek matematik notunu alan öğrenciyi bulun.\n",
        "6.\t4. Her öğrencinin not ortalamasını hesaplayan yeni bir sütun ekleyin.\n",
        "7.\t5. Bölümlere göre gruplayarak her bölümün ortalama başarılarını hesaplayın.\n",
        "8.\t6. Ortalaması 70’in üzerinde olan öğrencileri filtreleyin."
      ],
      "metadata": {
        "id": "bhh9nqU6LDdn"
      }
    },
    {
      "cell_type": "code",
      "source": [
        "import pandas as pd\n",
        "data = {\n",
        "    \"Öğrenci\": [\"Ali\", \"Ayşe\", \"Mehmet\", \"Zeynep\", \"Ahmet\"],\n",
        "    \"Yaş\": [20, 21, 19, 22, 20],\n",
        "    \"Bölüm\": [\"Bilgisayar\", \"Fizik\", \"Kimya\", \"Bilgisayar\", \"Fizik\"],\n",
        "    \"Matematik\": [70, 60, 80, 90, 55],\n",
        "    \"Fizik\": [65, 75, 70, 85, 60],\n",
        "    \"Kimya\": [80, 85, 65, 95, 70]\n",
        "}\n",
        "df = pd.DataFrame(data)\n",
        "ortalama_ders = df[[\"Matematik\", \"Fizik\", \"Kimya\"]].mean()\n",
        "en_yuksek_mat_notu = df.loc[df[\"Matematik\"].idxmax()]\n",
        "df[\"Ortalama\"] = df[[\"Matematik\", \"Fizik\", \"Kimya\"]].mean(axis=1)\n",
        "bolum_ortalama = df.groupby(\"Bölüm\")[[\"Matematik\", \"Fizik\", \"Kimya\", \"Ortalama\"]].mean()\n",
        "Ortalama_buyuk_70 = df[df[\"Ortalama\"] > 70]\n",
        "print(\"\\nEn yüksek matematik notunu alan öğrenci:\\n\", en_yuksek_mat_notu)\n",
        "print(\"\\nHer öğrencinin not ortalaması:\\n\", df)\n",
        "print(\"\\nBölümlere göre ortalama:\\n\", bolum_ortalama)\n",
        "print(\"\\nNot ortalaması 70'in üzerinde olan öğrenciler:\\n\", Ortalama_buyuk_70)"
      ],
      "metadata": {
        "colab": {
          "base_uri": "https://localhost:8080/"
        },
        "id": "JQ38o69roJZM",
        "outputId": "15646ce0-0f71-47a9-c42a-6dade9671433"
      },
      "execution_count": 18,
      "outputs": [
        {
          "output_type": "stream",
          "name": "stdout",
          "text": [
            "\n",
            "En yüksek matematik notunu alan öğrenci:\n",
            " Öğrenci          Zeynep\n",
            "Yaş                  22\n",
            "Bölüm        Bilgisayar\n",
            "Matematik            90\n",
            "Fizik                85\n",
            "Kimya                95\n",
            "Name: 3, dtype: object\n",
            "\n",
            "Her öğrencinin not ortalaması:\n",
            "   Öğrenci  Yaş       Bölüm  Matematik  Fizik  Kimya   Ortalama\n",
            "0     Ali   20  Bilgisayar         70     65     80  71.666667\n",
            "1    Ayşe   21       Fizik         60     75     85  73.333333\n",
            "2  Mehmet   19       Kimya         80     70     65  71.666667\n",
            "3  Zeynep   22  Bilgisayar         90     85     95  90.000000\n",
            "4   Ahmet   20       Fizik         55     60     70  61.666667\n",
            "\n",
            "Bölümlere göre ortalama:\n",
            "             Matematik  Fizik  Kimya   Ortalama\n",
            "Bölüm                                         \n",
            "Bilgisayar       80.0   75.0   87.5  80.833333\n",
            "Fizik            57.5   67.5   77.5  67.500000\n",
            "Kimya            80.0   70.0   65.0  71.666667\n",
            "\n",
            "Not ortalaması 70'in üzerinde olan öğrenciler:\n",
            "   Öğrenci  Yaş       Bölüm  Matematik  Fizik  Kimya   Ortalama\n",
            "0     Ali   20  Bilgisayar         70     65     80  71.666667\n",
            "1    Ayşe   21       Fizik         60     75     85  73.333333\n",
            "2  Mehmet   19       Kimya         80     70     65  71.666667\n",
            "3  Zeynep   22  Bilgisayar         90     85     95  90.000000\n"
          ]
        }
      ]
    },
    {
      "cell_type": "markdown",
      "source": [
        "## 3. Ek Görev (Opsiyonel)\n",
        "- Matplotlib veya Seaborn kullanarak:\n",
        "\n",
        "  • Her dersin dağılımını histogram ile gösterin.\n",
        "  \n",
        "  • Bölümlere göre ortalamaları bar grafikte görselleştirin.\n"
      ],
      "metadata": {
        "id": "oD9LlFW-R-yK"
      }
    },
    {
      "cell_type": "code",
      "metadata": {
        "id": "f5d4d759"
      },
      "source": [
        "import matplotlib.pyplot as plt\n",
        "import seaborn as sns"
      ],
      "execution_count": 22,
      "outputs": []
    },
    {
      "cell_type": "code",
      "metadata": {
        "colab": {
          "base_uri": "https://localhost:8080/",
          "height": 407
        },
        "id": "10e3f389",
        "outputId": "f2ccb8c6-3d1c-4a40-f4b9-4d9487597a40"
      },
      "source": [
        "# 1. Her dersin dağılımını histogram ile gösterme\n",
        "dersler = [\"Matematik\", \"Fizik\", \"Kimya\"]\n",
        "\n",
        "plt.figure(figsize=(12, 4))\n",
        "for i, ders in enumerate(dersler, 1):\n",
        "    plt.subplot(1, 3, i)\n",
        "    plt.hist(df[ders], bins=5, color=\"skyblue\", edgecolor=\"black\")\n",
        "    plt.title(f\"{ders} Dağılımı\")\n",
        "    plt.xlabel(\"Notlar\")\n",
        "    plt.ylabel(\"Frekans\")\n",
        "plt.tight_layout()\n",
        "plt.show()"
      ],
      "execution_count": 19,
      "outputs": [
        {
          "output_type": "display_data",
          "data": {
            "text/plain": [
              "<Figure size 1200x400 with 3 Axes>"
            ],
            "image/png": "[encoded data removed]"
          },
          "metadata": {}
        }
      ]
    },
    {
      "cell_type": "code",
      "source": [
        "# 2. Bölümlere göre ortalamaları bar grafikte görselleştirme\n",
        "plt.figure(figsize=(7,5))\n",
        "sns.barplot(data=df, x=\"Bölüm\", y=\"Ortalama\", palette=\"Set2\", ci=None)\n",
        "plt.title(\"Bölümlere Göre Ortalama Başarı\")\n",
        "plt.ylabel(\"Ortalama Not\")\n",
        "plt.show()"
      ],
      "metadata": {
        "colab": {
          "base_uri": "https://localhost:8080/",
          "height": 661
        },
        "id": "hDcjkeUVSscd",
        "outputId": "8261a042-f5df-4c6d-ea50-f39d6e3c115e"
      },
      "execution_count": 30,
      "outputs": [
        {
          "output_type": "stream",
          "name": "stderr",
          "text": [
            "/tmp/ipython-input-668994314.py:3: FutureWarning: \n",
            "\n",
            "The `ci` parameter is deprecated. Use `errorbar=None` for the same effect.\n",
            "\n",
            "  sns.barplot(data=df, x=\"Bölüm\", y=\"Ortalama\", palette=\"Set2\", ci=None)\n",
            "/tmp/ipython-input-668994314.py:3: FutureWarning: \n",
            "\n",
            "Passing `palette` without assigning `hue` is deprecated and will be removed in v0.14.0. Assign the `x` variable to `hue` and set `legend=False` for the same effect.\n",
            "\n",
            "  sns.barplot(data=df, x=\"Bölüm\", y=\"Ortalama\", palette=\"Set2\", ci=None)\n"
          ]
        },
        {
          "output_type": "display_data",
          "data": {
            "text/plain": [
              "<Figure size 700x500 with 1 Axes>"
            ],
            "image/png": "[encoded data removed]"
          },
          "metadata": {}
        }
      ]
    },
    {
      "cell_type": "code",
      "source": [],
      "metadata": {
        "id": "1nlgggpLStJr"
      },
      "execution_count": null,
      "outputs": []
    }
  ]
}