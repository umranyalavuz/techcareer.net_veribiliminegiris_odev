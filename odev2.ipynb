{
 "cells": [
  {
   "cell_type": "code",
   "execution_count": 6,
   "id": "bb0f81e1-6d6c-43da-9536-c6a32a8eb590",
   "metadata": {},
   "outputs": [
    {
     "name": "stdin",
     "output_type": "stream",
     "text": [
      "Bir sayı giriniz: 2\n"
     ]
    },
    {
     "name": "stdout",
     "output_type": "stream",
     "text": [
      "Sayı pozitif\n",
      "Girdiğiniz sayı çift\n"
     ]
    }
   ],
   "source": [
    "sayi = int(input(\"Bir sayı giriniz:\"))\n",
    "if sayi > 0 :\n",
    "    print(\"Sayı pozitif\")\n",
    "elif sayi < 0 :\n",
    "    print(\"Sayı negatif\")\n",
    "else : \n",
    "    print(\"Sayı sıfırdır\")\n",
    "if sayi % 2 == 0 :\n",
    "    print(\"Girdiğiniz sayı çift\")\n",
    "else:\n",
    "    (\"Girdiğiniz sayı tek\")\n",
    "    "
   ]
  },
  {
   "cell_type": "code",
   "execution_count": 18,
   "id": "a989ec5f-cd32-4a46-9ffe-f9a3dee769db",
   "metadata": {},
   "outputs": [
    {
     "name": "stdin",
     "output_type": "stream",
     "text": [
      "Bir sayı giriniz: -15\n"
     ]
    },
    {
     "name": "stdout",
     "output_type": "stream",
     "text": [
      "Girdiğiniz sayı negatif ve tek.\n"
     ]
    }
   ],
   "source": [
    "#aynı satırda deneyelim\n",
    "sayi = int(input(\"Bir sayı giriniz:\"))\n",
    "if sayi > 0:\n",
    "    if sayi  % 2 == 0 :\n",
    "        print(\"Girdiğiniz sayı pozitif ve çift.\")\n",
    "    else:\n",
    "        print(\"Girdiğiniz sayı pozitif ve tek.\")\n",
    "if sayi < 0 :\n",
    "    if sayi % 2 == 0 :\n",
    "        print(\"Girdiğiniz sayı negatif ve çift.\")\n",
    "    else :\n",
    "        print(\"Girdiğiniz sayı negatif ve tek.\")\n",
    "else: \n",
    "    print(\"Sayı sıfırdır.\")\n",
    "     "
   ]
  },
  {
   "cell_type": "code",
   "execution_count": 23,
   "id": "7f188993-721b-4076-ab0a-7aaa19b531fa",
   "metadata": {},
   "outputs": [
    {
     "name": "stdin",
     "output_type": "stream",
     "text": [
      "Bir kelime yazınız: yalavuz\n"
     ]
    },
    {
     "name": "stdout",
     "output_type": "stream",
     "text": [
      "Harf frkenası {'y': 1, 'a': 2, 'l': 1, 'v': 1, 'u': 1, 'z': 1}\n"
     ]
    }
   ],
   "source": [
    "kelime = input(\"Bir kelime yazınız:\")\n",
    "h_frekans = {}\n",
    "for harf in kelime :\n",
    "    if harf in h_frekans:\n",
    "        h_frekans [harf]+=1\n",
    "    else :\n",
    "        h_frekans [harf]=1\n",
    "print(\"Harf frkenası\",h_frekans)\n",
    "    \n",
    "    \n"
   ]
  },
  {
   "cell_type": "code",
   "execution_count": 15,
   "id": "ac698c5a-53ef-43f1-bb73-a5cdf991c0b4",
   "metadata": {},
   "outputs": [
    {
     "name": "stdin",
     "output_type": "stream",
     "text": [
      "Şifrenizi girin şifre\n"
     ]
    },
    {
     "name": "stdout",
     "output_type": "stream",
     "text": [
      "Şifreniz en az 8 karakter olabilir!\n"
     ]
    }
   ],
   "source": [
    "sifre = input(\"Şifrenizi girin\")\n",
    "if len(sifre) < 8 :\n",
    "    print(\"Şifreniz en az 8 karakter olabilir!\")\n",
    "elif sifre.islower():\n",
    "    print(\"Şifreniz en az 1 büyük harf içermeli!\")\n",
    "elif sifre.isalpha():\n",
    "    print(\"Şifre en az 1 rakam içermeli!\")\n",
    "else:\n",
    "    print(\"Geçerli şifre\")\n",
    "    "
   ]
  },
  {
   "cell_type": "code",
   "execution_count": 29,
   "id": "4a68ec9d-2a56-478f-a0e3-cd3af884eaed",
   "metadata": {},
   "outputs": [
    {
     "name": "stdout",
     "output_type": "stream",
     "text": [
      "Ortalama: 15.0\n",
      "Ortalamadan büyük sayılar: [25, 30, 18]\n"
     ]
    }
   ],
   "source": [
    "liste = [12, 4, 9, 25, 30, 7, 18]\n",
    "toplam = sum(liste)\n",
    "ortalama = sum(liste)/len(liste)\n",
    "print(\"Ortalama:\", ortalama)\n",
    "buyuk_olanlar = [x for x in liste if x > ortalama]\n",
    "print(\"Ortalamadan büyük sayılar:\", buyuk_olanlar)\n",
    "      \n",
    "      "
   ]
  },
  {
   "cell_type": "code",
   "execution_count": 31,
   "id": "36682ef1-2793-4dbe-9966-7cabbfded39c",
   "metadata": {},
   "outputs": [
    {
     "name": "stdout",
     "output_type": "stream",
     "text": [
      "*\n",
      "**\n",
      "***\n",
      "****\n",
      "*****\n"
     ]
    }
   ],
   "source": [
    "for i in range(1, 6):\n",
    "    print ('*' * i)"
   ]
  },
  {
   "cell_type": "code",
   "execution_count": 32,
   "id": "f4ba86f7-7d3f-42cf-9321-abcee12c95bd",
   "metadata": {},
   "outputs": [
    {
     "name": "stdout",
     "output_type": "stream",
     "text": [
      "*\n",
      "**\n",
      "***\n",
      "****\n",
      "*****\n"
     ]
    }
   ],
   "source": [
    "#while ile\n",
    "i = 1 \n",
    "while i <= 5:\n",
    "    print(\"*\" * i)\n",
    "    i+=1"
   ]
  },
  {
   "cell_type": "code",
   "execution_count": 2,
   "id": "0f65a473-b17d-451b-a340-5ded31543129",
   "metadata": {},
   "outputs": [
    {
     "name": "stdin",
     "output_type": "stream",
     "text": [
      "Bir sayı girin: 55\n",
      "Bir sayı girin: 34\n",
      "Bir sayı girin: 0\n"
     ]
    },
    {
     "name": "stdout",
     "output_type": "stream",
     "text": [
      "Ortalama: 44.5\n"
     ]
    }
   ],
   "source": [
    "toplam = 0 \n",
    "n = 0\n",
    "while True:\n",
    "    sayi = int(input(\"Bir sayı girin:\"))\n",
    "    if sayi == 0 :\n",
    "         break\n",
    "         \n",
    "    toplam += sayi\n",
    "    n += 1\n",
    "if n > 0 :\n",
    "    print(\"Ortalama:\" , toplam/n)\n",
    "else :\n",
    "    print(\"Bir sayı girmediniz!\")"
   ]
  },
  {
   "cell_type": "code",
   "execution_count": 3,
   "id": "a0a4718a-5182-457b-a46f-4272d52e8704",
   "metadata": {},
   "outputs": [
    {
     "name": "stdin",
     "output_type": "stream",
     "text": [
      "Bir kelime giriniz: ara\n"
     ]
    },
    {
     "name": "stdout",
     "output_type": "stream",
     "text": [
      "Palindrom\n"
     ]
    }
   ],
   "source": [
    "kelime = input(\"Bir kelime giriniz:\")\n",
    "if kelime == kelime[::-1]:\n",
    "    print(\"Palindrom\")\n",
    "else:\n",
    "    print(\"Palindrom değil\")"
   ]
  },
  {
   "cell_type": "code",
   "execution_count": 32,
   "id": "922ea2a3-ce7e-44a3-89fc-f1d50ebb3f72",
   "metadata": {},
   "outputs": [
    {
     "name": "stdout",
     "output_type": "stream",
     "text": [
      "[225, 900, 2025, 3600, 5625, 8100]\n"
     ]
    }
   ],
   "source": [
    "liste = [i**2 for i in range(1,101) if i % 3 == 0 and i % 5 == 0]\n",
    "print(liste)"
   ]
  },
  {
   "cell_type": "code",
   "execution_count": 17,
   "id": "e6d213f6-9a40-4802-8df1-218f54c99445",
   "metadata": {},
   "outputs": [
    {
     "name": "stdin",
     "output_type": "stream",
     "text": [
      "Bir cümle giriniz: yeni bir bilgisayar alacağım\n"
     ]
    },
    {
     "name": "stdout",
     "output_type": "stream",
     "text": [
      "Yeni Bir Bilgisayar Alacağım "
     ]
    }
   ],
   "source": [
    "cumle = input(\"Bir cümle giriniz:\")\n",
    "kelimeler = cumle.split() #kelimeleri ayırdım.\n",
    "for kelime in kelimeler:\n",
    "    print(kelime.capitalize(), end =\" \")    \n"
   ]
  },
  {
   "cell_type": "code",
   "execution_count": 33,
   "id": "1a716757-6349-4f7c-873b-acf0b510ff93",
   "metadata": {},
   "outputs": [
    {
     "name": "stdout",
     "output_type": "stream",
     "text": [
      "Film yorumlarını girin (bitirmek için boş bırakın ):\n"
     ]
    },
    {
     "name": "stdin",
     "output_type": "stream",
     "text": [
      "Yorum:  iyi\n",
      "Yorum:  iyiydi beğendim\n",
      "Yorum:  beğenmedim daha iyi olabilirdi senaryo çok yüzeysel işlenmiş\n",
      "Yorum:  gayet güzeldi beğendim\n",
      "Yorum:  kötüydü bence\n",
      "Yorum:  fena değildi \n",
      "Yorum:  \n"
     ]
    },
    {
     "name": "stdout",
     "output_type": "stream",
     "text": [
      "\n",
      "Toplam yorum sayısı: 6\n",
      "\"iyi\" geçen yorum sayısı: 3\n",
      "En uzun yorum: beğenmedim daha iyi olabilirdi senaryo çok yüzeysel işlenmiş\n",
      "En kısa yorum: iyi\n",
      "Ortalama uzunluk: 21.0 karakter\n"
     ]
    }
   ],
   "source": [
    "yorumlar = []\n",
    "\n",
    "print(\"Film yorumlarını girin (bitirmek için boş bırakın ):\")\n",
    "\n",
    "while True:\n",
    "    yorum = input(\"Yorum: \")\n",
    "    if yorum == \"\":   # boş girerse çık\n",
    "        break\n",
    "    yorumlar.append(yorum)\n",
    "\n",
    "if not yorumlar:\n",
    "    print(\"Hiç yorum girilmedi.\")\n",
    "else:\n",
    "    uzunluklar = [len(i) for i in yorumlar]  # her yorumun uzunluğunu buldum.\n",
    "\n",
    "    iyi_sayisi = sum(1 for i in yorumlar if \"iyi\" in i.lower())  # iyi kelimesini içeren yorumlar\n",
    "\n",
    "    en_uzun = max(yorumlar, key=len)\n",
    "    en_kisa = min(yorumlar, key=len)\n",
    "\n",
    "    ortalama = sum(uzunluklar) / len(yorumlar)\n",
    "\n",
    "    print(\"\\nToplam yorum sayısı:\", len(yorumlar))\n",
    "    print('\"iyi\" geçen yorum sayısı:', iyi_sayisi)\n",
    "    print(\"En uzun yorum:\", en_uzun)\n",
    "    print(\"En kısa yorum:\", en_kisa)\n",
    "    print(\"Ortalama uzunluk:\", round(ortalama, 1), \"karakter\")\n"
   ]
  },
  {
   "cell_type": "code",
   "execution_count": 22,
   "id": "701b9961-3686-4baa-8087-087d0cefd742",
   "metadata": {},
   "outputs": [],
   "source": []
  },
  {
   "cell_type": "code",
   "execution_count": null,
   "id": "084e9868-14c5-4020-826f-ac9b2b80e844",
   "metadata": {},
   "outputs": [],
   "source": []
  }
 ],
 "metadata": {
  "kernelspec": {
   "display_name": "Python [conda env:base] *",
   "language": "python",
   "name": "conda-base-py"
  },
  "language_info": {
   "codemirror_mode": {
    "name": "ipython",
    "version": 3
   },
   "file_extension": ".py",
   "mimetype": "text/x-python",
   "name": "python",
   "nbconvert_exporter": "python",
   "pygments_lexer": "ipython3",
   "version": "3.13.5"
  }
 },
 "nbformat": 4,
 "nbformat_minor": 5
}
